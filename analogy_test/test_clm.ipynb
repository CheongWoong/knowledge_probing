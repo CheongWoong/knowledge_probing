{
 "cells": [
  {
   "cell_type": "code",
   "execution_count": 1,
   "metadata": {},
   "outputs": [
    {
     "name": "stderr",
     "output_type": "stream",
     "text": [
      "/home/cheongwoong/miniconda3/envs/factual_knowledge_probing/lib/python3.9/site-packages/tqdm/auto.py:21: TqdmWarning: IProgress not found. Please update jupyter and ipywidgets. See https://ipywidgets.readthedocs.io/en/stable/user_install.html\n",
      "  from .autonotebook import tqdm as notebook_tqdm\n"
     ]
    }
   ],
   "source": [
    "from transformers import AutoTokenizer, AutoModelForCausalLM\n",
    "import torch\n",
    "import math\n",
    "from tqdm import tqdm\n",
    "import json\n",
    "import os\n",
    "from copy import deepcopy\n",
    "\n",
    "os.environ[\"CUDA_DEVICE_ORDER\"]=\"PCI_BUS_ID\"   # see issue #152\n",
    "os.environ[\"CUDA_VISIBLE_DEVICES\"]=\"2\""
   ]
  },
  {
   "cell_type": "code",
   "execution_count": 2,
   "metadata": {},
   "outputs": [],
   "source": [
    "data_path = '../data/analogy'\n",
    "valid_path = os.path.join(data_path, 'valid.json')\n",
    "test_path = os.path.join(data_path, 'test.json')\n",
    "valid_data = json.load(open(valid_path, 'r'))\n",
    "test_data = json.load(open(test_path, 'r'))"
   ]
  },
  {
   "cell_type": "code",
   "execution_count": 4,
   "metadata": {},
   "outputs": [
    {
     "name": "stderr",
     "output_type": "stream",
     "text": [
      "100%|██████████| 13656/13656 [04:41<00:00, 48.53it/s]\n",
      "100%|██████████| 13656/13656 [08:57<00:00, 25.41it/s]\n",
      "100%|██████████| 13656/13656 [11:47<00:00, 19.30it/s]\n",
      "100%|██████████| 13656/13656 [28:00<00:00,  8.13it/s]\n"
     ]
    }
   ],
   "source": [
    "model_names = ['EleutherAI/gpt-neo-125m', 'EleutherAI/gpt-neo-1.3B', 'EleutherAI/gpt-neo-2.7B', 'EleutherAI/gpt-j-6b',\n",
    "                 'meta-llama/Meta-Llama-3-8B', 'meta-llama/Meta-Llama-3-8B-Instruct',] \n",
    "\n",
    "for model_name in model_names:\n",
    "    # Load model and tokenizer\n",
    "    tokenizer = AutoTokenizer.from_pretrained(model_name)\n",
    "    model = AutoModelForCausalLM.from_pretrained(model_name).cuda()\n",
    "\n",
    "    results = []\n",
    "\n",
    "    for sample in tqdm(test_data):\n",
    "        uid = sample['uid']\n",
    "        sentence = sample['input']\n",
    "\n",
    "        # Tokenize the input sentence\n",
    "        tokens = tokenizer.tokenize(sentence)\n",
    "        end_tail = len(tokens) - 2 # -2 when sentence == sample['input] and -1 when sentence == sample['input_without_period']\n",
    "        tail = tokenizer.tokenize(sample['output'])\n",
    "        start_tail = end_tail - len(tail) + 1\n",
    "\n",
    "        if 'Llama' in model_name:\n",
    "            start_tail += 1\n",
    "            end_tail += 1\n",
    "\n",
    "        inputs = tokenizer(sentence, return_tensors=\"pt\").to('cuda')\n",
    "        input_ids = inputs[\"input_ids\"]\n",
    "\n",
    "        # Get the model output and calculate loss\n",
    "        with torch.no_grad():\n",
    "            outputs = model(input_ids, labels=input_ids)\n",
    "            loss = outputs.loss\n",
    "            perplexity = torch.exp(loss)  # Perplexity is exp(loss)\n",
    "\n",
    "            tail_labels = deepcopy(input_ids)\n",
    "            # tail_labels[:,start_tail:end_tail+1] = -100\n",
    "            tail_labels[:,:start_tail] = -100\n",
    "            tail_labels[:,end_tail+1:] = -100\n",
    "            outputs_tail = model(input_ids, labels=tail_labels)\n",
    "            loss_tail = outputs_tail.loss\n",
    "            tail_ppl = torch.exp(loss_tail)\n",
    "\n",
    "        result = {'uid': uid, 'ppl': perplexity.item(), 'tail_ppl': tail_ppl.item()}\n",
    "        results.append(result)\n",
    "\n",
    "    os.makedirs('results', exist_ok=True)\n",
    "    output_model_name = model_name.split('/')[-1]\n",
    "    with open(os.path.join('results', f'{output_model_name}.json'), 'w') as fout:\n",
    "        json.dump(results, fout)"
   ]
  },
  {
   "cell_type": "code",
   "execution_count": null,
   "metadata": {},
   "outputs": [],
   "source": []
  }
 ],
 "metadata": {
  "kernelspec": {
   "display_name": "factual_knowledge_probing",
   "language": "python",
   "name": "python3"
  },
  "language_info": {
   "codemirror_mode": {
    "name": "ipython",
    "version": 3
   },
   "file_extension": ".py",
   "mimetype": "text/x-python",
   "name": "python",
   "nbconvert_exporter": "python",
   "pygments_lexer": "ipython3",
   "version": "3.9.18"
  }
 },
 "nbformat": 4,
 "nbformat_minor": 2
}
